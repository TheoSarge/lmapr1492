{
 "cells": [
  {
   "cell_type": "code",
   "execution_count": null,
   "id": "5dd5bca2",
   "metadata": {},
   "outputs": [],
   "source": [
    "from mp_api.client import MPRester\n",
    "with MPRester(api_key=\"qRoAGfJF1IUuYaCct5LB4jRQZJma2vqz\") as mpr:\n",
    "    data = mpr.materials.get_data_by_id(\"mp-1367\")\n",
    "structure.to(filename=\"mp-1367.cif\")"
   ]
  }
 ],
 "metadata": {
  "kernelspec": {
   "display_name": "Python 3",
   "language": "python",
   "name": "python3"
  },
  "language_info": {
   "codemirror_mode": {
    "name": "ipython",
    "version": 3
   },
   "file_extension": ".py",
   "mimetype": "text/x-python",
   "name": "python",
   "nbconvert_exporter": "python",
   "pygments_lexer": "ipython3",
   "version": "3.6.8"
  }
 },
 "nbformat": 4,
 "nbformat_minor": 5
}
