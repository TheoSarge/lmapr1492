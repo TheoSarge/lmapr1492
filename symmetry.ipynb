{
 "cells": [
  {
   "cell_type": "code",
   "execution_count": 28,
   "id": "31fa3f8f",
   "metadata": {},
   "outputs": [],
   "source": [
    "from pymatgen.ext.matproj import MPRester\n",
    "from pymatgen import Structure\n",
    "from jupyter_jsmol.pymatgen import quick_view\n",
    "with MPRester(\"1QkJHLuQRDewfXKS3kq\") as m:\n",
    "\n",
    "    data = m.get_structure_by_material_id(\"mp-1367\")"
   ]
  },
  {
   "cell_type": "code",
   "execution_count": 55,
   "id": "28368e0d",
   "metadata": {
    "scrolled": false
   },
   "outputs": [
    {
     "data": {
      "application/vnd.jupyter.widget-view+json": {
       "model_id": "393320cb5eee4ca9b8264de17c88efb2",
       "version_major": 2,
       "version_minor": 0
      },
      "text/plain": [
       "JsmolView(layout=Layout(align_self='stretch', height='400px'))"
      ]
     },
     "metadata": {},
     "output_type": "display_data"
    }
   ],
   "source": [
    "view = quick_view(data)\n",
    "display(view)\n",
    "view.script('draw symop 12 {atomno = 1}')"
   ]
  },
  {
   "cell_type": "markdown",
   "id": "40c49c91",
   "metadata": {},
   "source": [
    "Cette opération est une réflexion selon le plan vert. L'atome concerné, qui se trouve en (1.585, 1.585, 1.585), est traversé par le plans vert.\n",
    "Ceci implique que la réflexion renvoie l'atome sur lui-même."
   ]
  },
  {
   "cell_type": "code",
   "execution_count": 45,
   "id": "496029a1",
   "metadata": {
    "scrolled": true
   },
   "outputs": [
    {
     "data": {
      "application/vnd.jupyter.widget-view+json": {
       "model_id": "4e64c3c8f0da4d69ad4fd8801fa3e92a",
       "version_major": 2,
       "version_minor": 0
      },
      "text/plain": [
       "JsmolView(layout=Layout(align_self='stretch', height='400px'))"
      ]
     },
     "metadata": {},
     "output_type": "display_data"
    }
   ],
   "source": [
    "view2 = quick_view(data)\n",
    "display(view2)\n",
    "view2.script('draw symop 2 {atomno=1}')"
   ]
  },
  {
   "cell_type": "markdown",
   "id": "7093fb5c",
   "metadata": {},
   "source": [
    "Cette opération est une symétrie d'inversion de centre (0,0,0) et d'équation (x, y, z) -> (-x, -y, -z).\n",
    "L'atome de magnésium (en vert) situé en (1.585, 1.585, 1.585) et est projeté sur la position (-1.585, -1.585, -1.585).\n",
    "La position équivalente dans la maille adjascente est (4.755, 4.755, 4.755)."
   ]
  },
  {
   "cell_type": "code",
   "execution_count": 35,
   "id": "0ad39c8a",
   "metadata": {
    "scrolled": false
   },
   "outputs": [
    {
     "data": {
      "application/vnd.jupyter.widget-view+json": {
       "model_id": "923a4f812c254055b9514e91b771a4ea",
       "version_major": 2,
       "version_minor": 0
      },
      "text/plain": [
       "JsmolView(layout=Layout(align_self='stretch', height='400px'))"
      ]
     },
     "metadata": {},
     "output_type": "display_data"
    }
   ],
   "source": [
    "view3 = quick_view(data)\n",
    "display(view3)\n",
    "view3.script('draw symop 8 {atomno=3}')"
   ]
  },
  {
   "cell_type": "markdown",
   "id": "76149e34",
   "metadata": {},
   "source": [
    "Cette opération est une roto-inversion. L'inversion se fait selon le centre (0,0,0), d'équation (x, y, z) -> (-x, -y, -z).\n",
    "La rotation d'axe est d'orde 4. L'atome de magnésium (en vert) situé en (4.755, 4.755, 4.755) est projeté sur la position (-4.755, -4.755, -4.755).\n",
    "La rotation va en suite repositionner l'atome sur la position (4.755, 4.755, 4.755) mais deux mailles à côté."
   ]
  },
  {
   "cell_type": "code",
   "execution_count": null,
   "id": "331ab630",
   "metadata": {},
   "outputs": [],
   "source": []
  }
 ],
 "metadata": {
  "kernelspec": {
   "display_name": "Python 3",
   "language": "python",
   "name": "python3"
  },
  "language_info": {
   "codemirror_mode": {
    "name": "ipython",
    "version": 3
   },
   "file_extension": ".py",
   "mimetype": "text/x-python",
   "name": "python",
   "nbconvert_exporter": "python",
   "pygments_lexer": "ipython3",
   "version": "3.6.8"
  }
 },
 "nbformat": 4,
 "nbformat_minor": 5
}
