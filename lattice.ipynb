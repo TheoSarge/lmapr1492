{
 "cells": [
  {
   "cell_type": "code",
   "execution_count": 31,
   "id": "e8c37817",
   "metadata": {},
   "outputs": [],
   "source": [
    "from pymatgen.ext.matproj import MPRester\n",
    "from pymatgen import Structure\n",
    "from pymatgen.symmetry.analyzer import SpacegroupAnalyzer\n",
    "from pymatgen.core.lattice import Lattice as L\n",
    "with MPRester(\"1QkJHLuQRDewfXKS3kq\") as m:\n",
    "\n",
    "    data = m.get_structure_by_material_id(\"mp-1367\")"
   ]
  },
  {
   "cell_type": "code",
   "execution_count": 32,
   "id": "4f988870",
   "metadata": {},
   "outputs": [
    {
     "name": "stdout",
     "output_type": "stream",
     "text": [
      "Vecteurs de bases du réseau direct:\n",
      "0.000000 3.182586 3.182586\n",
      "3.182586 0.000000 3.182586\n",
      "3.182586 3.182586 0.000000\n"
     ]
    }
   ],
   "source": [
    "print(\"Vecteurs de bases du réseau direct:\")\n",
    "print(data.lattice)"
   ]
  },
  {
   "cell_type": "code",
   "execution_count": 33,
   "id": "bd1ea68c",
   "metadata": {},
   "outputs": [
    {
     "name": "stdout",
     "output_type": "stream",
     "text": [
      "Vecteurs de bases du réseau réciproque:\n",
      "-0.987119 0.987119 0.987119\n",
      "0.987119 -0.987119 0.987119\n",
      "0.987119 0.987119 -0.987119\n"
     ]
    }
   ],
   "source": [
    "print(\"Vecteurs de bases du réseau réciproque:\")\n",
    "print(data.lattice.reciprocal_lattice)"
   ]
  },
  {
   "cell_type": "code",
   "execution_count": 34,
   "id": "40cdc8c1",
   "metadata": {},
   "outputs": [
    {
     "name": "stdout",
     "output_type": "stream",
     "text": [
      "Son type maille: cubic\n"
     ]
    }
   ],
   "source": [
    "print(\"Son type maille:\",SpacegroupAnalyzer(data).get_lattice_type())"
   ]
  },
  {
   "cell_type": "code",
   "execution_count": 35,
   "id": "361f5b59",
   "metadata": {},
   "outputs": [
    {
     "name": "stdout",
     "output_type": "stream",
     "text": [
      "Gysteme crystallin: cubic\n"
     ]
    }
   ],
   "source": [
    "print(\"Gysteme crystallin:\",SpacegroupAnalyzer(data).get_crystal_system())"
   ]
  },
  {
   "cell_type": "code",
   "execution_count": 36,
   "id": "2bf9abab",
   "metadata": {},
   "outputs": [
    {
     "name": "stdout",
     "output_type": "stream",
     "text": [
      "Groupe ponctuel: m-3m\n"
     ]
    }
   ],
   "source": [
    "print(\"Groupe ponctuel:\",SpacegroupAnalyzer(data).get_point_group_symbol())"
   ]
  },
  {
   "cell_type": "code",
   "execution_count": null,
   "id": "84d5271c",
   "metadata": {},
   "outputs": [],
   "source": []
  }
 ],
 "metadata": {
  "kernelspec": {
   "display_name": "Python 3",
   "language": "python",
   "name": "python3"
  },
  "language_info": {
   "codemirror_mode": {
    "name": "ipython",
    "version": 3
   },
   "file_extension": ".py",
   "mimetype": "text/x-python",
   "name": "python",
   "nbconvert_exporter": "python",
   "pygments_lexer": "ipython3",
   "version": "3.6.8"
  }
 },
 "nbformat": 4,
 "nbformat_minor": 5
}
